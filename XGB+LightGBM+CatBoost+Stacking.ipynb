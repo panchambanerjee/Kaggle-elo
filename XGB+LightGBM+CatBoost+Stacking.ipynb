{
 "cells": [
  {
   "cell_type": "code",
   "execution_count": 1,
   "metadata": {},
   "outputs": [],
   "source": [
    "import os\n",
    "import json\n",
    "import time\n",
    "import numpy as np\n",
    "\n",
    "import warnings\n",
    "warnings.filterwarnings('ignore')\n",
    "\n",
    "import pandas as pd\n",
    "from pandas.io.json import json_normalize\n",
    "import matplotlib.pyplot as plt\n",
    "import seaborn as sns\n",
    "color = sns.color_palette()\n",
    "\n",
    "%matplotlib inline\n",
    "\n",
    "import datetime"
   ]
  },
  {
   "cell_type": "code",
   "execution_count": 57,
   "metadata": {},
   "outputs": [],
   "source": [
    "from sklearn.model_selection import KFold\n",
    "from sklearn import model_selection, preprocessing, metrics\n",
    "from sklearn import model_selection\n",
    "from sklearn.metrics import mean_squared_error\n",
    "from sklearn.linear_model import Ridge, RidgeCV, Lasso\n",
    "from sklearn.ensemble import RandomForestRegressor\n",
    "\n",
    "import lightgbm as lgb\n",
    "import xgboost as xgb\n",
    "import catboost as cb\n",
    "\n",
    "pd.options.mode.chained_assignment = None\n",
    "pd.options.display.max_columns = 999"
   ]
  },
  {
   "cell_type": "code",
   "execution_count": 3,
   "metadata": {},
   "outputs": [],
   "source": [
    "df_train = pd.read_csv('train.csv', parse_dates=['first_active_month'])\n",
    "df_test = pd.read_csv('test.csv', parse_dates=['first_active_month'])"
   ]
  },
  {
   "cell_type": "code",
   "execution_count": 4,
   "metadata": {},
   "outputs": [],
   "source": [
    "df_train[\"month\"] = df_train[\"first_active_month\"].dt.month\n",
    "df_test[\"month\"] = df_test[\"first_active_month\"].dt.month\n",
    "\n",
    "df_train[\"year\"] = df_train[\"first_active_month\"].dt.year\n",
    "df_test[\"year\"] = df_test[\"first_active_month\"].dt.year\n",
    "\n",
    "df_train['elapsed_time'] = (datetime.date(2018, 2, 1) - df_train['first_active_month'].dt.date).dt.days\n",
    "df_test['elapsed_time'] = (datetime.date(2018, 2, 1) - df_test['first_active_month'].dt.date).dt.days\n"
   ]
  },
  {
   "cell_type": "code",
   "execution_count": 5,
   "metadata": {},
   "outputs": [],
   "source": [
    "df_train = pd.get_dummies(df_train, columns=['feature_1', 'feature_2'])\n",
    "df_test = pd.get_dummies(df_test, columns=['feature_1', 'feature_2'])"
   ]
  },
  {
   "cell_type": "code",
   "execution_count": 6,
   "metadata": {},
   "outputs": [],
   "source": [
    "df_hist = pd.read_csv('historical_transactions.csv')\n",
    "df_hist = pd.get_dummies(df_hist, columns=['category_2', 'category_3'])\n",
    "df_hist['authorized_flag'] = df_hist['authorized_flag'].map({'Y': 1, 'N': 0})\n",
    "df_hist['category_1'] = df_hist['category_1'].map({'Y': 1, 'N': 0})"
   ]
  },
  {
   "cell_type": "code",
   "execution_count": 7,
   "metadata": {},
   "outputs": [],
   "source": [
    "def aggregate_transactions(df, prefix):  \n",
    "    df.loc[:, 'purchase_date'] = pd.DatetimeIndex(df['purchase_date']).\\\n",
    "                                      astype(np.int64) * 1e-9\n",
    "    \n",
    "    agg_func = {\n",
    "        'authorized_flag': ['sum', 'mean'],\n",
    "        'category_1': ['mean'],\n",
    "        'category_2_1.0': ['mean'],\n",
    "        'category_2_2.0': ['mean'],\n",
    "        'category_2_3.0': ['mean'],\n",
    "        'category_2_4.0': ['mean'],\n",
    "        'category_2_5.0': ['mean'],\n",
    "        'category_3_A': ['mean'],\n",
    "        'category_3_B': ['mean'],\n",
    "        'category_3_C': ['mean'],\n",
    "        'merchant_id': ['nunique'],\n",
    "        'purchase_amount': ['sum', 'mean', 'max', 'min', 'std'],\n",
    "        'installments': ['sum', 'mean', 'max', 'min', 'std'],\n",
    "        'purchase_date': [np.ptp],\n",
    "        'month_lag': ['min', 'max']\n",
    "    }\n",
    "    agg_df = df.groupby(['card_id']).agg(agg_func)\n",
    "    agg_df.columns = [prefix + '_'.join(col).strip() \n",
    "                           for col in agg_df.columns.values]\n",
    "    agg_df.reset_index(inplace=True)\n",
    "    \n",
    "    df = (df.groupby('card_id')\n",
    "          .size()\n",
    "          .reset_index(name='{}transactions_count'.format(prefix)))\n",
    "    \n",
    "    agg_df = pd.merge(df, agg_df, on='card_id', how='left')\n",
    "    \n",
    "    return agg_df"
   ]
  },
  {
   "cell_type": "code",
   "execution_count": 8,
   "metadata": {},
   "outputs": [
    {
     "name": "stdout",
     "output_type": "stream",
     "text": [
      "(201917, 41) (123623, 40)\n"
     ]
    }
   ],
   "source": [
    "df_hist = aggregate_transactions(df_hist, prefix='hist_')\n",
    "\n",
    "df_train = pd.merge(df_train, df_hist, on='card_id',how='left')\n",
    "df_test = pd.merge(df_test, df_hist, on='card_id',how='left')\n",
    "\n",
    "print(df_train.shape, df_test.shape)"
   ]
  },
  {
   "cell_type": "code",
   "execution_count": 9,
   "metadata": {},
   "outputs": [],
   "source": [
    "df_new = pd.read_csv('new_merchant_transactions.csv')\n",
    "\n",
    "df_new = pd.get_dummies(df_new, columns=['category_2', 'category_3'])\n",
    "df_new['authorized_flag'] = df_new['authorized_flag'].map({'Y': 1, 'N': 0})\n",
    "df_new['category_1'] = df_new['category_1'].map({'Y': 1, 'N': 0})"
   ]
  },
  {
   "cell_type": "code",
   "execution_count": 10,
   "metadata": {},
   "outputs": [
    {
     "name": "stdout",
     "output_type": "stream",
     "text": [
      "(201917, 67) (123623, 66)\n"
     ]
    }
   ],
   "source": [
    "df_new = aggregate_transactions(df_new, prefix='new_')\n",
    "\n",
    "df_train = pd.merge(df_train, df_new, on='card_id',how='left')\n",
    "df_test = pd.merge(df_test, df_new, on='card_id',how='left')\n",
    "\n",
    "print(df_train.shape, df_test.shape)"
   ]
  },
  {
   "cell_type": "code",
   "execution_count": 11,
   "metadata": {},
   "outputs": [],
   "source": [
    "target = df_train['target']\n",
    "cols_to_drop = ['card_id', 'first_active_month', 'target']\n",
    "use_cols = [c for c in df_train.columns if c not in cols_to_drop]\n",
    "features = list(df_train[use_cols].columns)"
   ]
  },
  {
   "cell_type": "markdown",
   "metadata": {},
   "source": [
    "## 1. LightGBM"
   ]
  },
  {
   "cell_type": "code",
   "execution_count": 12,
   "metadata": {},
   "outputs": [
    {
     "name": "stdout",
     "output_type": "stream",
     "text": [
      "-\n",
      "Fold 1\n",
      "Training until validation scores don't improve for 100 rounds.\n",
      "[100]\ttraining's rmse: 3.75147\tvalid_1's rmse: 3.81823\n",
      "[200]\ttraining's rmse: 3.69496\tvalid_1's rmse: 3.78503\n",
      "[300]\ttraining's rmse: 3.65231\tvalid_1's rmse: 3.7654\n",
      "[400]\ttraining's rmse: 3.61679\tvalid_1's rmse: 3.75126\n",
      "[500]\ttraining's rmse: 3.58676\tvalid_1's rmse: 3.74122\n",
      "[600]\ttraining's rmse: 3.56052\tvalid_1's rmse: 3.73348\n",
      "[700]\ttraining's rmse: 3.53924\tvalid_1's rmse: 3.7287\n",
      "[800]\ttraining's rmse: 3.51838\tvalid_1's rmse: 3.72433\n",
      "[900]\ttraining's rmse: 3.50043\tvalid_1's rmse: 3.72129\n",
      "[1000]\ttraining's rmse: 3.48334\tvalid_1's rmse: 3.71835\n",
      "[1100]\ttraining's rmse: 3.46742\tvalid_1's rmse: 3.71616\n",
      "[1200]\ttraining's rmse: 3.45332\tvalid_1's rmse: 3.71452\n",
      "[1300]\ttraining's rmse: 3.4399\tvalid_1's rmse: 3.71248\n",
      "[1400]\ttraining's rmse: 3.42768\tvalid_1's rmse: 3.7113\n",
      "[1500]\ttraining's rmse: 3.41651\tvalid_1's rmse: 3.71049\n",
      "[1600]\ttraining's rmse: 3.40581\tvalid_1's rmse: 3.70992\n",
      "[1700]\ttraining's rmse: 3.39496\tvalid_1's rmse: 3.70912\n",
      "[1800]\ttraining's rmse: 3.38517\tvalid_1's rmse: 3.70876\n",
      "[1900]\ttraining's rmse: 3.37556\tvalid_1's rmse: 3.70819\n",
      "[2000]\ttraining's rmse: 3.36607\tvalid_1's rmse: 3.7078\n",
      "[2100]\ttraining's rmse: 3.35652\tvalid_1's rmse: 3.70747\n",
      "[2200]\ttraining's rmse: 3.34796\tvalid_1's rmse: 3.70722\n",
      "[2300]\ttraining's rmse: 3.3395\tvalid_1's rmse: 3.70693\n",
      "[2400]\ttraining's rmse: 3.33046\tvalid_1's rmse: 3.70678\n",
      "[2500]\ttraining's rmse: 3.32171\tvalid_1's rmse: 3.7066\n",
      "[2600]\ttraining's rmse: 3.31359\tvalid_1's rmse: 3.70658\n",
      "[2700]\ttraining's rmse: 3.30581\tvalid_1's rmse: 3.70651\n",
      "[2800]\ttraining's rmse: 3.29736\tvalid_1's rmse: 3.70619\n",
      "[2900]\ttraining's rmse: 3.28955\tvalid_1's rmse: 3.7059\n",
      "[3000]\ttraining's rmse: 3.28129\tvalid_1's rmse: 3.70562\n",
      "[3100]\ttraining's rmse: 3.27355\tvalid_1's rmse: 3.70546\n",
      "[3200]\ttraining's rmse: 3.26588\tvalid_1's rmse: 3.70546\n",
      "[3300]\ttraining's rmse: 3.25807\tvalid_1's rmse: 3.7053\n",
      "[3400]\ttraining's rmse: 3.25019\tvalid_1's rmse: 3.70506\n",
      "[3500]\ttraining's rmse: 3.24294\tvalid_1's rmse: 3.70501\n",
      "[3600]\ttraining's rmse: 3.23558\tvalid_1's rmse: 3.70495\n",
      "[3700]\ttraining's rmse: 3.22801\tvalid_1's rmse: 3.70479\n",
      "[3800]\ttraining's rmse: 3.22071\tvalid_1's rmse: 3.70488\n",
      "Early stopping, best iteration is:\n",
      "[3716]\ttraining's rmse: 3.22677\tvalid_1's rmse: 3.70471\n",
      "-\n",
      "Fold 2\n",
      "Training until validation scores don't improve for 100 rounds.\n",
      "[100]\ttraining's rmse: 3.76977\tvalid_1's rmse: 3.74732\n",
      "[200]\ttraining's rmse: 3.70927\tvalid_1's rmse: 3.71939\n",
      "[300]\ttraining's rmse: 3.6647\tvalid_1's rmse: 3.70356\n",
      "[400]\ttraining's rmse: 3.6287\tvalid_1's rmse: 3.69309\n",
      "[500]\ttraining's rmse: 3.59726\tvalid_1's rmse: 3.68522\n",
      "[600]\ttraining's rmse: 3.57093\tvalid_1's rmse: 3.67886\n",
      "[700]\ttraining's rmse: 3.54876\tvalid_1's rmse: 3.67448\n",
      "[800]\ttraining's rmse: 3.5284\tvalid_1's rmse: 3.67105\n",
      "[900]\ttraining's rmse: 3.50919\tvalid_1's rmse: 3.66838\n",
      "[1000]\ttraining's rmse: 3.49251\tvalid_1's rmse: 3.66666\n",
      "[1100]\ttraining's rmse: 3.47651\tvalid_1's rmse: 3.66487\n",
      "[1200]\ttraining's rmse: 3.46289\tvalid_1's rmse: 3.66396\n",
      "[1300]\ttraining's rmse: 3.44891\tvalid_1's rmse: 3.66288\n",
      "[1400]\ttraining's rmse: 3.43685\tvalid_1's rmse: 3.66212\n",
      "[1500]\ttraining's rmse: 3.42473\tvalid_1's rmse: 3.66166\n",
      "[1600]\ttraining's rmse: 3.41373\tvalid_1's rmse: 3.66131\n",
      "[1700]\ttraining's rmse: 3.40317\tvalid_1's rmse: 3.661\n",
      "[1800]\ttraining's rmse: 3.39329\tvalid_1's rmse: 3.66061\n",
      "[1900]\ttraining's rmse: 3.38329\tvalid_1's rmse: 3.66052\n",
      "[2000]\ttraining's rmse: 3.37378\tvalid_1's rmse: 3.66023\n",
      "[2100]\ttraining's rmse: 3.36448\tvalid_1's rmse: 3.66026\n",
      "Early stopping, best iteration is:\n",
      "[2073]\ttraining's rmse: 3.36692\tvalid_1's rmse: 3.66017\n",
      "-\n",
      "Fold 3\n",
      "Training until validation scores don't improve for 100 rounds.\n",
      "[100]\ttraining's rmse: 3.77306\tvalid_1's rmse: 3.71889\n",
      "[200]\ttraining's rmse: 3.71406\tvalid_1's rmse: 3.68903\n",
      "[300]\ttraining's rmse: 3.67082\tvalid_1's rmse: 3.67145\n",
      "[400]\ttraining's rmse: 3.63505\tvalid_1's rmse: 3.65937\n",
      "[500]\ttraining's rmse: 3.60542\tvalid_1's rmse: 3.65127\n",
      "[600]\ttraining's rmse: 3.57926\tvalid_1's rmse: 3.6451\n",
      "[700]\ttraining's rmse: 3.55684\tvalid_1's rmse: 3.64025\n",
      "[800]\ttraining's rmse: 3.5354\tvalid_1's rmse: 3.63599\n",
      "[900]\ttraining's rmse: 3.51753\tvalid_1's rmse: 3.63318\n",
      "[1000]\ttraining's rmse: 3.50054\tvalid_1's rmse: 3.63096\n",
      "[1100]\ttraining's rmse: 3.48448\tvalid_1's rmse: 3.6288\n",
      "[1200]\ttraining's rmse: 3.46944\tvalid_1's rmse: 3.62701\n",
      "[1300]\ttraining's rmse: 3.45575\tvalid_1's rmse: 3.62564\n",
      "[1400]\ttraining's rmse: 3.4426\tvalid_1's rmse: 3.62459\n",
      "[1500]\ttraining's rmse: 3.43097\tvalid_1's rmse: 3.62392\n",
      "[1600]\ttraining's rmse: 3.41943\tvalid_1's rmse: 3.62336\n",
      "[1700]\ttraining's rmse: 3.40838\tvalid_1's rmse: 3.62292\n",
      "[1800]\ttraining's rmse: 3.3984\tvalid_1's rmse: 3.62271\n",
      "[1900]\ttraining's rmse: 3.38801\tvalid_1's rmse: 3.62228\n",
      "[2000]\ttraining's rmse: 3.37915\tvalid_1's rmse: 3.62214\n",
      "[2100]\ttraining's rmse: 3.3698\tvalid_1's rmse: 3.62178\n",
      "[2200]\ttraining's rmse: 3.36066\tvalid_1's rmse: 3.6216\n",
      "[2300]\ttraining's rmse: 3.35228\tvalid_1's rmse: 3.62132\n",
      "[2400]\ttraining's rmse: 3.34307\tvalid_1's rmse: 3.62105\n",
      "[2500]\ttraining's rmse: 3.33438\tvalid_1's rmse: 3.62122\n",
      "Early stopping, best iteration is:\n",
      "[2402]\ttraining's rmse: 3.34293\tvalid_1's rmse: 3.62105\n",
      "-\n",
      "Fold 4\n",
      "Training until validation scores don't improve for 100 rounds.\n",
      "[100]\ttraining's rmse: 3.72609\tvalid_1's rmse: 3.92433\n",
      "[200]\ttraining's rmse: 3.66807\tvalid_1's rmse: 3.89354\n",
      "[300]\ttraining's rmse: 3.6247\tvalid_1's rmse: 3.87522\n",
      "[400]\ttraining's rmse: 3.5874\tvalid_1's rmse: 3.86118\n",
      "[500]\ttraining's rmse: 3.55746\tvalid_1's rmse: 3.85257\n",
      "[600]\ttraining's rmse: 3.5317\tvalid_1's rmse: 3.84679\n",
      "[700]\ttraining's rmse: 3.50872\tvalid_1's rmse: 3.84145\n",
      "[800]\ttraining's rmse: 3.48866\tvalid_1's rmse: 3.83745\n",
      "[900]\ttraining's rmse: 3.4697\tvalid_1's rmse: 3.834\n",
      "[1000]\ttraining's rmse: 3.45175\tvalid_1's rmse: 3.83109\n",
      "[1100]\ttraining's rmse: 3.43547\tvalid_1's rmse: 3.82859\n",
      "[1200]\ttraining's rmse: 3.42142\tvalid_1's rmse: 3.82694\n",
      "[1300]\ttraining's rmse: 3.40817\tvalid_1's rmse: 3.82539\n",
      "[1400]\ttraining's rmse: 3.39569\tvalid_1's rmse: 3.82446\n",
      "[1500]\ttraining's rmse: 3.38445\tvalid_1's rmse: 3.82355\n",
      "[1600]\ttraining's rmse: 3.37355\tvalid_1's rmse: 3.82281\n",
      "[1700]\ttraining's rmse: 3.36337\tvalid_1's rmse: 3.82222\n",
      "[1800]\ttraining's rmse: 3.35315\tvalid_1's rmse: 3.82166\n",
      "[1900]\ttraining's rmse: 3.3434\tvalid_1's rmse: 3.82098\n",
      "[2000]\ttraining's rmse: 3.33354\tvalid_1's rmse: 3.82036\n",
      "[2100]\ttraining's rmse: 3.32472\tvalid_1's rmse: 3.82005\n",
      "[2200]\ttraining's rmse: 3.31611\tvalid_1's rmse: 3.81989\n",
      "[2300]\ttraining's rmse: 3.30756\tvalid_1's rmse: 3.81961\n",
      "[2400]\ttraining's rmse: 3.29925\tvalid_1's rmse: 3.8195\n",
      "[2500]\ttraining's rmse: 3.29062\tvalid_1's rmse: 3.81925\n",
      "[2600]\ttraining's rmse: 3.28252\tvalid_1's rmse: 3.81906\n",
      "[2700]\ttraining's rmse: 3.27446\tvalid_1's rmse: 3.81902\n",
      "[2800]\ttraining's rmse: 3.26612\tvalid_1's rmse: 3.81883\n",
      "[2900]\ttraining's rmse: 3.25842\tvalid_1's rmse: 3.81874\n",
      "[3000]\ttraining's rmse: 3.25076\tvalid_1's rmse: 3.81866\n",
      "Early stopping, best iteration is:\n",
      "[2977]\ttraining's rmse: 3.25225\tvalid_1's rmse: 3.81856\n",
      "-\n",
      "Fold 5\n",
      "Training until validation scores don't improve for 100 rounds.\n",
      "[100]\ttraining's rmse: 3.77198\tvalid_1's rmse: 3.73168\n",
      "[200]\ttraining's rmse: 3.71372\tvalid_1's rmse: 3.70088\n",
      "[300]\ttraining's rmse: 3.67035\tvalid_1's rmse: 3.68333\n",
      "[400]\ttraining's rmse: 3.6333\tvalid_1's rmse: 3.67113\n",
      "[500]\ttraining's rmse: 3.60223\tvalid_1's rmse: 3.66294\n",
      "[600]\ttraining's rmse: 3.57534\tvalid_1's rmse: 3.65784\n",
      "[700]\ttraining's rmse: 3.55175\tvalid_1's rmse: 3.65367\n",
      "[800]\ttraining's rmse: 3.53046\tvalid_1's rmse: 3.65053\n",
      "[900]\ttraining's rmse: 3.51154\tvalid_1's rmse: 3.64802\n",
      "[1000]\ttraining's rmse: 3.49464\tvalid_1's rmse: 3.64594\n",
      "[1100]\ttraining's rmse: 3.47906\tvalid_1's rmse: 3.64462\n",
      "[1200]\ttraining's rmse: 3.46423\tvalid_1's rmse: 3.64362\n",
      "[1300]\ttraining's rmse: 3.4499\tvalid_1's rmse: 3.64247\n",
      "[1400]\ttraining's rmse: 3.43742\tvalid_1's rmse: 3.64183\n",
      "[1500]\ttraining's rmse: 3.42488\tvalid_1's rmse: 3.64112\n",
      "[1600]\ttraining's rmse: 3.413\tvalid_1's rmse: 3.64082\n",
      "[1700]\ttraining's rmse: 3.40277\tvalid_1's rmse: 3.64056\n",
      "[1800]\ttraining's rmse: 3.39288\tvalid_1's rmse: 3.6403\n",
      "[1900]\ttraining's rmse: 3.38335\tvalid_1's rmse: 3.64011\n",
      "[2000]\ttraining's rmse: 3.3735\tvalid_1's rmse: 3.63997\n",
      "[2100]\ttraining's rmse: 3.36461\tvalid_1's rmse: 3.63991\n"
     ]
    },
    {
     "name": "stdout",
     "output_type": "stream",
     "text": [
      "[2200]\ttraining's rmse: 3.35592\tvalid_1's rmse: 3.63996\n",
      "Early stopping, best iteration is:\n",
      "[2107]\ttraining's rmse: 3.36397\tvalid_1's rmse: 3.63987\n"
     ]
    }
   ],
   "source": [
    "lgb_params = {'num_leaves': 50,\n",
    "         'min_data_in_leaf': 30, \n",
    "         'objective':'regression',\n",
    "         'max_depth': -1,\n",
    "         'learning_rate': 0.005,\n",
    "         \"boosting\": \"gbdt\",\n",
    "         \"feature_fraction\": 0.9,\n",
    "         \"bagging_freq\": 1,\n",
    "         \"bagging_fraction\": 0.9,\n",
    "         \"bagging_seed\": 11,\n",
    "         \"metric\": 'rmse',\n",
    "         \"lambda_l1\": 0.1,\n",
    "         \"verbosity\": -1}\n",
    "\n",
    "folds = KFold(n_splits=5, shuffle=True, random_state=15)\n",
    "oof_lgb = np.zeros(len(df_train))\n",
    "predictions_lgb = np.zeros(len(df_test))\n",
    "\n",
    "for fold_, (trn_idx, val_idx) in enumerate(folds.split(df_train.values, target.values)):\n",
    "    print('-')\n",
    "    print(\"Fold {}\".format(fold_ + 1))\n",
    "    trn_data = lgb.Dataset(df_train.iloc[trn_idx][features], label=target.iloc[trn_idx])\n",
    "    val_data = lgb.Dataset(df_train.iloc[val_idx][features], label=target.iloc[val_idx])\n",
    "\n",
    "    num_round = 10000\n",
    "    clf = lgb.train(lgb_params, trn_data, num_round, valid_sets = [trn_data, val_data], verbose_eval=100, early_stopping_rounds=100)\n",
    "    oof_lgb[val_idx] = clf.predict(df_train.iloc[val_idx][features], num_iteration=clf.best_iteration)\n",
    "    predictions_lgb += clf.predict(df_test[features], num_iteration=clf.best_iteration) / folds.n_splits"
   ]
  },
  {
   "cell_type": "code",
   "execution_count": 15,
   "metadata": {},
   "outputs": [
    {
     "data": {
      "text/plain": [
       "3.689544862590313"
      ]
     },
     "execution_count": 15,
     "metadata": {},
     "output_type": "execute_result"
    }
   ],
   "source": [
    "validation_score = np.sqrt(mean_squared_error(target, oof_lgb))\n",
    "validation_score"
   ]
  },
  {
   "cell_type": "markdown",
   "metadata": {},
   "source": [
    "## 2. XGBoost"
   ]
  },
  {
   "cell_type": "code",
   "execution_count": 18,
   "metadata": {},
   "outputs": [
    {
     "name": "stdout",
     "output_type": "stream",
     "text": [
      "-\n",
      "Fold 1\n",
      "xgb 0--------------------------------------------------\n",
      "[0]\ttrain-rmse:3.94002\tvalid-rmse:3.98691\n",
      "Multiple eval metrics have been passed: 'valid-rmse' will be used for early stopping.\n",
      "\n",
      "Will train until valid-rmse hasn't improved in 50 rounds.\n",
      "[1000]\ttrain-rmse:2.96408\tvalid-rmse:3.7128\n",
      "Stopping. Best iteration:\n",
      "[1279]\ttrain-rmse:2.87598\tvalid-rmse:3.71108\n",
      "\n",
      "-\n",
      "Fold 2\n",
      "xgb 1--------------------------------------------------\n",
      "[0]\ttrain-rmse:3.96009\tvalid-rmse:3.90614\n",
      "Multiple eval metrics have been passed: 'valid-rmse' will be used for early stopping.\n",
      "\n",
      "Will train until valid-rmse hasn't improved in 50 rounds.\n",
      "[1000]\ttrain-rmse:2.94587\tvalid-rmse:3.6586\n",
      "Stopping. Best iteration:\n",
      "[1010]\ttrain-rmse:2.94149\tvalid-rmse:3.65854\n",
      "\n",
      "-\n",
      "Fold 3\n",
      "xgb 2--------------------------------------------------\n",
      "[0]\ttrain-rmse:3.96731\tvalid-rmse:3.87636\n",
      "Multiple eval metrics have been passed: 'valid-rmse' will be used for early stopping.\n",
      "\n",
      "Will train until valid-rmse hasn't improved in 50 rounds.\n",
      "[1000]\ttrain-rmse:2.9719\tvalid-rmse:3.62691\n",
      "Stopping. Best iteration:\n",
      "[1165]\ttrain-rmse:2.92\tvalid-rmse:3.62642\n",
      "\n",
      "-\n",
      "Fold 4\n",
      "xgb 3--------------------------------------------------\n",
      "[0]\ttrain-rmse:3.91319\tvalid-rmse:4.09129\n",
      "Multiple eval metrics have been passed: 'valid-rmse' will be used for early stopping.\n",
      "\n",
      "Will train until valid-rmse hasn't improved in 50 rounds.\n",
      "[1000]\ttrain-rmse:2.92308\tvalid-rmse:3.82465\n",
      "Stopping. Best iteration:\n",
      "[1309]\ttrain-rmse:2.82053\tvalid-rmse:3.82306\n",
      "\n",
      "-\n",
      "Fold 5\n",
      "xgb 4--------------------------------------------------\n",
      "[0]\ttrain-rmse:3.96451\tvalid-rmse:3.88867\n",
      "Multiple eval metrics have been passed: 'valid-rmse' will be used for early stopping.\n",
      "\n",
      "Will train until valid-rmse hasn't improved in 50 rounds.\n",
      "[1000]\ttrain-rmse:2.96704\tvalid-rmse:3.64573\n",
      "Stopping. Best iteration:\n",
      "[972]\ttrain-rmse:2.9772\tvalid-rmse:3.64561\n",
      "\n"
     ]
    }
   ],
   "source": [
    "xgb_params = {'eta': 0.005, \n",
    "              'max_depth': 10, \n",
    "              'subsample': 0.8, \n",
    "              'colsample_bytree': 0.8, \n",
    "              'objective': 'reg:linear', \n",
    "              'eval_metric': 'rmse', \n",
    "              'silent': True}\n",
    "\n",
    "folds = KFold(n_splits=5, shuffle=True, random_state=15)\n",
    "oof_xgb = np.zeros(len(df_train))\n",
    "predictions_xgb = np.zeros(len(df_test))\n",
    "\n",
    "for fold_, (trn_idx, val_idx) in enumerate(folds.split(df_train.values, target.values)):\n",
    "    print('-')\n",
    "    print(\"Fold {}\".format(fold_ + 1))\n",
    "    trn_data = xgb.DMatrix(data=df_train.iloc[trn_idx][features], label=target.iloc[trn_idx])\n",
    "    val_data = xgb.DMatrix(data=df_train.iloc[val_idx][features], label=target.iloc[val_idx])\n",
    "    watchlist = [(trn_data, 'train'), (val_data, 'valid')]\n",
    "    print(\"xgb \" + str(fold_) + \"-\" * 50)\n",
    "    num_round = 10000\n",
    "    xgb_model = xgb.train(xgb_params, trn_data, num_round, watchlist, early_stopping_rounds=50, verbose_eval=200)\n",
    "    oof_xgb[val_idx] = xgb_model.predict(xgb.DMatrix(df_train.iloc[val_idx][features]), ntree_limit=xgb_model.best_ntree_limit+50)\n",
    "\n",
    "    predictions_xgb += xgb_model.predict(xgb.DMatrix(df_test[features]), ntree_limit=xgb_model.best_ntree_limit+50) / folds.n_splits"
   ]
  },
  {
   "cell_type": "code",
   "execution_count": 48,
   "metadata": {},
   "outputs": [
    {
     "data": {
      "text/plain": [
       "3.6937509061097757"
      ]
     },
     "execution_count": 48,
     "metadata": {},
     "output_type": "execute_result"
    }
   ],
   "source": [
    "validation_score = np.sqrt(mean_squared_error(target, oof_xgb))\n",
    "validation_score"
   ]
  },
  {
   "cell_type": "markdown",
   "metadata": {},
   "source": [
    "## 3. CatBoost"
   ]
  },
  {
   "cell_type": "code",
   "execution_count": 45,
   "metadata": {},
   "outputs": [
    {
     "name": "stdout",
     "output_type": "stream",
     "text": [
      "-\n",
      "Fold 1\n",
      "cb 0--------------------------------------------------\n",
      "0:\tlearn: 3.8605329\ttest: 3.8605329\ttest1: 3.9041308\tbest: 3.9041308 (0)\ttotal: 148ms\tremaining: 24m 41s\n",
      "400:\tlearn: 3.6696745\ttest: 3.6696745\ttest1: 3.7545042\tbest: 3.7545042 (400)\ttotal: 1m 2s\tremaining: 24m 58s\n",
      "800:\tlearn: 3.6117062\ttest: 3.6117062\ttest1: 3.7331421\tbest: 3.7331421 (800)\ttotal: 2m 3s\tremaining: 23m 41s\n",
      "1200:\tlearn: 3.5713340\ttest: 3.5713340\ttest1: 3.7236637\tbest: 3.7236613 (1199)\ttotal: 3m 5s\tremaining: 22m 39s\n",
      "1600:\tlearn: 3.5371728\ttest: 3.5371728\ttest1: 3.7189568\tbest: 3.7189568 (1600)\ttotal: 4m 6s\tremaining: 21m 33s\n",
      "2000:\tlearn: 3.5064442\ttest: 3.5064442\ttest1: 3.7155374\tbest: 3.7155296 (1999)\ttotal: 5m 17s\tremaining: 21m 8s\n",
      "2400:\tlearn: 3.4766375\ttest: 3.4766375\ttest1: 3.7127417\tbest: 3.7127417 (2400)\ttotal: 6m 22s\tremaining: 20m 10s\n",
      "2800:\tlearn: 3.4495197\ttest: 3.4495197\ttest1: 3.7112050\tbest: 3.7111923 (2798)\ttotal: 7m 25s\tremaining: 19m 5s\n",
      "3200:\tlearn: 3.4241141\ttest: 3.4241141\ttest1: 3.7101523\tbest: 3.7101480 (3199)\ttotal: 8m 32s\tremaining: 18m 7s\n",
      "3600:\tlearn: 3.3993921\ttest: 3.3993921\ttest1: 3.7094471\tbest: 3.7094471 (3600)\ttotal: 9m 38s\tremaining: 17m 8s\n",
      "Stopped by overfitting detector  (50 iterations wait)\n",
      "\n",
      "bestTest = 3.709199046\n",
      "bestIteration = 3687\n",
      "\n",
      "Shrink model to first 3688 iterations.\n",
      "-\n",
      "Fold 2\n",
      "cb 1--------------------------------------------------\n",
      "0:\tlearn: 3.8804492\ttest: 3.8804492\ttest1: 3.8242925\tbest: 3.8242925 (0)\ttotal: 159ms\tremaining: 26m 32s\n",
      "400:\tlearn: 3.6826221\ttest: 3.6826221\ttest1: 3.6882462\tbest: 3.6882462 (400)\ttotal: 1m 12s\tremaining: 28m 44s\n",
      "800:\tlearn: 3.6226065\ttest: 3.6226065\ttest1: 3.6716377\tbest: 3.6716377 (800)\ttotal: 2m 17s\tremaining: 26m 17s\n",
      "1200:\tlearn: 3.5806202\ttest: 3.5806202\ttest1: 3.6643452\tbest: 3.6643452 (1200)\ttotal: 3m 20s\tremaining: 24m 27s\n",
      "1600:\tlearn: 3.5480222\ttest: 3.5480222\ttest1: 3.6608630\tbest: 3.6608609 (1598)\ttotal: 4m 22s\tremaining: 22m 59s\n",
      "2000:\tlearn: 3.5179790\ttest: 3.5179790\ttest1: 3.6587998\tbest: 3.6587951 (1997)\ttotal: 5m 34s\tremaining: 22m 17s\n",
      "2400:\tlearn: 3.4890247\ttest: 3.4890247\ttest1: 3.6573998\tbest: 3.6573702 (2386)\ttotal: 6m 39s\tremaining: 21m 5s\n",
      "2800:\tlearn: 3.4614060\ttest: 3.4614060\ttest1: 3.6561968\tbest: 3.6561833 (2798)\ttotal: 7m 45s\tremaining: 19m 55s\n",
      "3200:\tlearn: 3.4369657\ttest: 3.4369657\ttest1: 3.6553573\tbest: 3.6553525 (3182)\ttotal: 8m 48s\tremaining: 18m 43s\n",
      "Stopped by overfitting detector  (50 iterations wait)\n",
      "\n",
      "bestTest = 3.655241718\n",
      "bestIteration = 3239\n",
      "\n",
      "Shrink model to first 3240 iterations.\n",
      "-\n",
      "Fold 3\n",
      "cb 2--------------------------------------------------\n",
      "0:\tlearn: 3.8871735\ttest: 3.8871735\ttest1: 3.7970133\tbest: 3.7970133 (0)\ttotal: 159ms\tremaining: 26m 27s\n",
      "400:\tlearn: 3.6914638\ttest: 3.6914638\ttest1: 3.6626589\tbest: 3.6626589 (400)\ttotal: 1m 6s\tremaining: 26m 20s\n",
      "800:\tlearn: 3.6320439\ttest: 3.6320439\ttest1: 3.6446259\tbest: 3.6446259 (800)\ttotal: 2m 12s\tremaining: 25m 22s\n",
      "1200:\tlearn: 3.5928117\ttest: 3.5928117\ttest1: 3.6367512\tbest: 3.6367512 (1200)\ttotal: 3m 26s\tremaining: 25m 10s\n",
      "1600:\tlearn: 3.5588678\ttest: 3.5588678\ttest1: 3.6330368\tbest: 3.6330368 (1600)\ttotal: 4m 27s\tremaining: 23m 23s\n",
      "2000:\tlearn: 3.5294901\ttest: 3.5294901\ttest1: 3.6308602\tbest: 3.6308240 (1994)\ttotal: 5m 22s\tremaining: 21m 30s\n",
      "2400:\tlearn: 3.5005283\ttest: 3.5005283\ttest1: 3.6289836\tbest: 3.6289818 (2396)\ttotal: 6m 18s\tremaining: 19m 58s\n",
      "2800:\tlearn: 3.4746011\ttest: 3.4746011\ttest1: 3.6277041\tbest: 3.6277041 (2800)\ttotal: 7m 16s\tremaining: 18m 41s\n",
      "3200:\tlearn: 3.4496721\ttest: 3.4496721\ttest1: 3.6267869\tbest: 3.6267631 (3196)\ttotal: 8m 12s\tremaining: 17m 27s\n",
      "3600:\tlearn: 3.4266589\ttest: 3.4266589\ttest1: 3.6259114\tbest: 3.6258943 (3589)\ttotal: 9m 10s\tremaining: 16m 18s\n",
      "Stopped by overfitting detector  (50 iterations wait)\n",
      "\n",
      "bestTest = 3.625381335\n",
      "bestIteration = 3841\n",
      "\n",
      "Shrink model to first 3842 iterations.\n",
      "-\n",
      "Fold 4\n",
      "cb 3--------------------------------------------------\n",
      "0:\tlearn: 3.8338177\ttest: 3.8338177\ttest1: 4.0080489\tbest: 4.0080489 (0)\ttotal: 215ms\tremaining: 35m 52s\n",
      "400:\tlearn: 3.6423519\ttest: 3.6423519\ttest1: 3.8684109\tbest: 3.8684109 (400)\ttotal: 58.8s\tremaining: 23m 28s\n",
      "800:\tlearn: 3.5803864\ttest: 3.5803864\ttest1: 3.8472878\tbest: 3.8472878 (800)\ttotal: 1m 54s\tremaining: 21m 57s\n",
      "1200:\tlearn: 3.5384359\ttest: 3.5384359\ttest1: 3.8378641\tbest: 3.8378641 (1200)\ttotal: 2m 51s\tremaining: 20m 54s\n",
      "1600:\tlearn: 3.5053095\ttest: 3.5053095\ttest1: 3.8333051\tbest: 3.8333051 (1600)\ttotal: 3m 46s\tremaining: 19m 46s\n",
      "2000:\tlearn: 3.4757707\ttest: 3.4757707\ttest1: 3.8305370\tbest: 3.8305035 (1991)\ttotal: 4m 41s\tremaining: 18m 46s\n",
      "2400:\tlearn: 3.4478165\ttest: 3.4478165\ttest1: 3.8283686\tbest: 3.8283528 (2398)\ttotal: 5m 37s\tremaining: 17m 46s\n",
      "2800:\tlearn: 3.4208489\ttest: 3.4208489\ttest1: 3.8266566\tbest: 3.8266557 (2799)\ttotal: 6m 33s\tremaining: 16m 50s\n",
      "3200:\tlearn: 3.3950950\ttest: 3.3950950\ttest1: 3.8252723\tbest: 3.8252723 (3200)\ttotal: 7m 28s\tremaining: 15m 52s\n",
      "3600:\tlearn: 3.3709496\ttest: 3.3709496\ttest1: 3.8242431\tbest: 3.8242381 (3598)\ttotal: 8m 24s\tremaining: 14m 56s\n",
      "Stopped by overfitting detector  (50 iterations wait)\n",
      "\n",
      "bestTest = 3.823847277\n",
      "bestIteration = 3808\n",
      "\n",
      "Shrink model to first 3809 iterations.\n",
      "-\n",
      "Fold 5\n",
      "cb 4--------------------------------------------------\n",
      "0:\tlearn: 3.8840253\ttest: 3.8840253\ttest1: 3.8097040\tbest: 3.8097040 (0)\ttotal: 144ms\tremaining: 24m 2s\n",
      "400:\tlearn: 3.6860082\ttest: 3.6860082\ttest1: 3.6734588\tbest: 3.6734588 (400)\ttotal: 1m 1s\tremaining: 24m 31s\n",
      "800:\tlearn: 3.6243289\ttest: 3.6243289\ttest1: 3.6566809\tbest: 3.6566809 (800)\ttotal: 1m 57s\tremaining: 22m 31s\n"
     ]
    },
    {
     "name": "stderr",
     "output_type": "stream",
     "text": [
      "\n",
      "Iteration with suspicious time 557 sec ignored in overall statistics.\n",
      "\n",
      "Iteration with suspicious time 558 sec ignored in overall statistics.\n"
     ]
    },
    {
     "name": "stdout",
     "output_type": "stream",
     "text": [
      "1200:\tlearn: 3.5814457\ttest: 3.5814457\ttest1: 3.6503238\tbest: 3.6503238 (1200)\ttotal: 3m 4s\tremaining: 22m 30s\n"
     ]
    },
    {
     "name": "stderr",
     "output_type": "stream",
     "text": [
      "\n",
      "Iteration with suspicious time 81.5 sec ignored in overall statistics.\n"
     ]
    },
    {
     "name": "stdout",
     "output_type": "stream",
     "text": [
      "1600:\tlearn: 3.5464226\ttest: 3.5464226\ttest1: 3.6471027\tbest: 3.6471027 (1600)\ttotal: 4m 17s\tremaining: 22m 31s\n",
      "2000:\tlearn: 3.5149179\ttest: 3.5149179\ttest1: 3.6451506\tbest: 3.6451506 (2000)\ttotal: 5m 13s\tremaining: 20m 56s\n",
      "2400:\tlearn: 3.4863355\ttest: 3.4863355\ttest1: 3.6439584\tbest: 3.6439318 (2356)\ttotal: 6m 7s\tremaining: 19m 26s\n",
      "Stopped by overfitting detector  (50 iterations wait)\n",
      "\n",
      "bestTest = 3.643931809\n",
      "bestIteration = 2356\n",
      "\n",
      "Shrink model to first 2357 iterations.\n"
     ]
    }
   ],
   "source": [
    "kfolds = KFold(n_splits=5, shuffle=True, random_state=15)\n",
    "oof_cb = np.zeros(len(df_train))\n",
    "predictions_cb = np.zeros(len(df_test))\n",
    "\n",
    "for fold_, (trn_idx, val_idx) in enumerate(folds.split(df_train.values, target.values)):\n",
    "    print('-')\n",
    "    print(\"Fold {}\".format(fold_ + 1))\n",
    "    X_train, y_train = df_train[features].iloc[trn_idx], target.iloc[trn_idx]\n",
    "    X_valid, y_valid = df_train[features].iloc[val_idx], target.iloc[val_idx]\n",
    "    \n",
    "    print(\"cb \" + str(fold_) + \"-\" * 50)\n",
    "    \n",
    "    # CatBoost Regressor estimator\n",
    "    model = cb.CatBoostRegressor(learning_rate = 0.005,\n",
    "        iterations = 10000,\n",
    "        eval_metric = 'RMSE',\n",
    "        allow_writing_files = False,\n",
    "        od_type = 'Iter',\n",
    "        bagging_temperature = 0.2,\n",
    "        depth = 10,\n",
    "        od_wait = 20,\n",
    "        silent = True)\n",
    "    \n",
    "            \n",
    "    # Fit\n",
    "    model.fit(\n",
    "        X_train, y_train,\n",
    "        eval_set=[(X_train, y_train), (X_valid, y_valid)],\n",
    "        early_stopping_rounds=50,\n",
    "        verbose_eval=400\n",
    "    )\n",
    "    \n",
    "    oof_cb[val_idx] = model.predict(X_valid)\n",
    "    predictions_cb += model.predict(df_test[features]) / kfolds.n_splits                            "
   ]
  },
  {
   "cell_type": "code",
   "execution_count": 49,
   "metadata": {},
   "outputs": [
    {
     "data": {
      "text/plain": [
       "3.692218444327492"
      ]
     },
     "execution_count": 49,
     "metadata": {},
     "output_type": "execute_result"
    }
   ],
   "source": [
    "validation_score = np.sqrt(mean_squared_error(target, oof_cb))\n",
    "validation_score"
   ]
  },
  {
   "cell_type": "code",
   "execution_count": 66,
   "metadata": {},
   "outputs": [
    {
     "name": "stdout",
     "output_type": "stream",
     "text": [
      "fold no.1\n",
      "fold no.2\n",
      "fold no.3\n",
      "fold no.4\n",
      "fold no.5\n"
     ]
    }
   ],
   "source": [
    "folds = KFold(n_splits=5, shuffle=True, random_state=15)\n",
    "oof_ridge = np.zeros(len(df_train))\n",
    "predictions_ridge = np.zeros(len(df_test))\n",
    "\n",
    "tst_data = df_test.copy()\n",
    "tst_data.fillna((tst_data.mean()), inplace=True)\n",
    "\n",
    "tst_data = tst_data[features].values\n",
    "\n",
    "for fold_, (trn_idx, val_idx) in enumerate(folds.split(df_train, target)):\n",
    "    print(\"fold no.{}\".format(fold_+1))\n",
    "    trn_data, trn_y = df_train.iloc[trn_idx][features], target.iloc[trn_idx].values\n",
    "    val_data, val_y = df_train.iloc[val_idx][features], target.iloc[val_idx].values\n",
    "    \n",
    "    trn_data.fillna((trn_data.mean()), inplace=True)\n",
    "    val_data.fillna((val_data.mean()), inplace=True)\n",
    "    \n",
    "    trn_data = trn_data.values\n",
    "    val_data = val_data.values\n",
    "\n",
    "    clf = Ridge(alpha=100)\n",
    "    clf.fit(trn_data, trn_y)\n",
    "    \n",
    "    oof_ridge[val_idx] = clf.predict(val_data)\n",
    "    predictions_ridge += clf.predict(tst_data) / folds.n_splits"
   ]
  },
  {
   "cell_type": "code",
   "execution_count": 67,
   "metadata": {},
   "outputs": [
    {
     "data": {
      "text/plain": [
       "3.8285953928413603"
      ]
     },
     "execution_count": 67,
     "metadata": {},
     "output_type": "execute_result"
    }
   ],
   "source": [
    "validation_score = np.sqrt(mean_squared_error(target, oof_ridge))\n",
    "validation_score"
   ]
  },
  {
   "cell_type": "code",
   "execution_count": 68,
   "metadata": {},
   "outputs": [
    {
     "name": "stdout",
     "output_type": "stream",
     "text": [
      "fold no.1\n",
      "fold no.2\n",
      "fold no.3\n",
      "fold no.4\n",
      "fold no.5\n"
     ]
    }
   ],
   "source": [
    "folds = KFold(n_splits=5, shuffle=True, random_state=15)\n",
    "oof_lasso = np.zeros(len(df_train))\n",
    "predictions_lasso = np.zeros(len(df_test))\n",
    "\n",
    "tst_data = df_test.copy()\n",
    "tst_data.fillna((tst_data.mean()), inplace=True)\n",
    "\n",
    "tst_data = tst_data[features].values\n",
    "\n",
    "for fold_, (trn_idx, val_idx) in enumerate(folds.split(df_train, target)):\n",
    "    print(\"fold no.{}\".format(fold_+1))\n",
    "    trn_data, trn_y = df_train.iloc[trn_idx][features], target.iloc[trn_idx].values\n",
    "    val_data, val_y = df_train.iloc[val_idx][features], target.iloc[val_idx].values\n",
    "    \n",
    "    trn_data.fillna((trn_data.mean()), inplace=True)\n",
    "    val_data.fillna((val_data.mean()), inplace=True)\n",
    "    \n",
    "    trn_data = trn_data.values\n",
    "    val_data = val_data.values\n",
    "\n",
    "    clf = Lasso(alpha=100)\n",
    "    clf.fit(trn_data, trn_y)\n",
    "    \n",
    "    oof_ridge[val_idx] = clf.predict(val_data)\n",
    "    predictions_lasso += clf.predict(tst_data) / folds.n_splits"
   ]
  },
  {
   "cell_type": "code",
   "execution_count": 69,
   "metadata": {},
   "outputs": [
    {
     "data": {
      "text/plain": [
       "3.8705589161316296"
      ]
     },
     "execution_count": 69,
     "metadata": {},
     "output_type": "execute_result"
    }
   ],
   "source": [
    "validation_score = np.sqrt(mean_squared_error(target, oof_lasso))\n",
    "validation_score"
   ]
  },
  {
   "cell_type": "code",
   "execution_count": 72,
   "metadata": {},
   "outputs": [
    {
     "name": "stdout",
     "output_type": "stream",
     "text": [
      "fold no. 1\n",
      "fold no. 2\n",
      "fold no. 3\n",
      "fold no. 4\n",
      "fold no. 5\n"
     ]
    },
    {
     "data": {
      "text/plain": [
       "3.686160383006063"
      ]
     },
     "execution_count": 72,
     "metadata": {},
     "output_type": "execute_result"
    }
   ],
   "source": [
    "train_stack = np.vstack([oof_cb, oof_lgb, oof_xgb, oof_ridge, oof_lasso]).transpose()\n",
    "test_stack = np.vstack([predictions_cb, predictions_lgb, predictions_xgb, predictions_ridge, predictions_lasso]).transpose()\n",
    "\n",
    "folds = KFold(n_splits=5, shuffle=True, random_state=15)\n",
    "oof = np.zeros(train_stack.shape[0])\n",
    "predictions = np.zeros(test_stack.shape[0])\n",
    "\n",
    "for fold_, (trn_idx, val_idx) in enumerate(folds.split(train_stack, target)):\n",
    "    print(\"fold no. {}\".format(fold_ + 1))\n",
    "    trn_data, trn_y = train_stack[trn_idx], target.iloc[trn_idx].values\n",
    "    val_data, val_y = train_stack[val_idx], target.iloc[val_idx].values\n",
    "\n",
    "    clf = Ridge(alpha=500)\n",
    "    clf.fit(trn_data, trn_y)\n",
    "    \n",
    "    oof[val_idx] = clf.predict(val_data)\n",
    "    predictions += clf.predict(test_stack) / folds.n_splits\n",
    "\n",
    "\n",
    "np.sqrt(mean_squared_error(target, oof))"
   ]
  },
  {
   "cell_type": "code",
   "execution_count": 73,
   "metadata": {},
   "outputs": [],
   "source": [
    "df_submission = pd.DataFrame({\"card_id\": df_test[\"card_id\"].values})\n",
    "df_submission[\"target\"] = predictions\n",
    "df_submission.to_csv(\"mds_einstein_stack3.csv\", index=False)"
   ]
  },
  {
   "cell_type": "code",
   "execution_count": null,
   "metadata": {},
   "outputs": [],
   "source": []
  }
 ],
 "metadata": {
  "kernelspec": {
   "display_name": "Python 3",
   "language": "python",
   "name": "python3"
  },
  "language_info": {
   "codemirror_mode": {
    "name": "ipython",
    "version": 3
   },
   "file_extension": ".py",
   "mimetype": "text/x-python",
   "name": "python",
   "nbconvert_exporter": "python",
   "pygments_lexer": "ipython3",
   "version": "3.7.1"
  }
 },
 "nbformat": 4,
 "nbformat_minor": 2
}
